{
 "cells": [
  {
   "cell_type": "markdown",
   "metadata": {},
   "source": [
    "## Goal\n",
    "The objective of this project is to Build one or more classification models to determine the player using the other columns as features. I will follow data preparation and feature engineering process before I use a classification model to predict the player."
   ]
  },
  {
   "cell_type": "markdown",
   "metadata": {},
   "source": [
    "## Load and View the Dataset\n",
    "I import the necessary libraries:"
   ]
  },
  {
   "cell_type": "code",
   "execution_count": 240,
   "metadata": {},
   "outputs": [],
   "source": [
    "import pandas as pd #load the data into panda data frames\n",
    "from sklearn.naive_bayes import GaussianNB #naive bayes model\n",
    "from sklearn.model_selection import train_test_split #split the dataset\n",
    "from sklearn import preprocessing #label encoder\n",
    "from sklearn.metrics import accuracy_score #generate accuracy score\n",
    "from sklearn.ensemble import RandomForestClassifier #random forest model\n",
    "from sklearn import tree #decision tree\n",
    "from wordcloud import WordCloud #generate a word cloud\n",
    "import matplotlib.pyplot as plt # to plot the word cloud\n",
    "from matplotlib.pyplot import figure #to resize plot"
   ]
  },
  {
   "cell_type": "markdown",
   "metadata": {},
   "source": [
    "Then I load Shakespeare plays data sets into the data frames. To understand what the columns meant, I referred to the data source, [Shakespeare plays](https://www.kaggle.com/kingburrito666/shakespeare-plays \"Kaggle, Shakespeare Plays Dataset CSV\"), which describes the columns as:\n",
    "- **Dataline:** keeps track of the rows\n",
    "- **Play:** play that the lines are from\n",
    "- **PlayLinenumber:** actual line being spoken at any given time\n",
    "- **ActSceneLine:** Act-Scene-Line from which any given line is from\n",
    "- **Player:** player who is saying the line\n",
    "- **PlayerLine:** line being spoken\n",
    "\n",
    "This is what it looks like:"
   ]
  },
  {
   "cell_type": "code",
   "execution_count": 241,
   "metadata": {
    "scrolled": false
   },
   "outputs": [
    {
     "data": {
      "text/html": [
       "<div>\n",
       "<style scoped>\n",
       "    .dataframe tbody tr th:only-of-type {\n",
       "        vertical-align: middle;\n",
       "    }\n",
       "\n",
       "    .dataframe tbody tr th {\n",
       "        vertical-align: top;\n",
       "    }\n",
       "\n",
       "    .dataframe thead th {\n",
       "        text-align: right;\n",
       "    }\n",
       "</style>\n",
       "<table border=\"1\" class=\"dataframe\">\n",
       "  <thead>\n",
       "    <tr style=\"text-align: right;\">\n",
       "      <th></th>\n",
       "      <th>Dataline</th>\n",
       "      <th>Play</th>\n",
       "      <th>PlayerLinenumber</th>\n",
       "      <th>ActSceneLine</th>\n",
       "      <th>Player</th>\n",
       "      <th>PlayerLine</th>\n",
       "    </tr>\n",
       "  </thead>\n",
       "  <tbody>\n",
       "    <tr>\n",
       "      <th>0</th>\n",
       "      <td>1</td>\n",
       "      <td>Henry IV</td>\n",
       "      <td>NaN</td>\n",
       "      <td>NaN</td>\n",
       "      <td>NaN</td>\n",
       "      <td>ACT I</td>\n",
       "    </tr>\n",
       "    <tr>\n",
       "      <th>1</th>\n",
       "      <td>2</td>\n",
       "      <td>Henry IV</td>\n",
       "      <td>NaN</td>\n",
       "      <td>NaN</td>\n",
       "      <td>NaN</td>\n",
       "      <td>SCENE I. London. The palace.</td>\n",
       "    </tr>\n",
       "    <tr>\n",
       "      <th>2</th>\n",
       "      <td>3</td>\n",
       "      <td>Henry IV</td>\n",
       "      <td>NaN</td>\n",
       "      <td>NaN</td>\n",
       "      <td>NaN</td>\n",
       "      <td>Enter KING HENRY, LORD JOHN OF LANCASTER, the ...</td>\n",
       "    </tr>\n",
       "    <tr>\n",
       "      <th>3</th>\n",
       "      <td>4</td>\n",
       "      <td>Henry IV</td>\n",
       "      <td>1.0</td>\n",
       "      <td>1.1.1</td>\n",
       "      <td>KING HENRY IV</td>\n",
       "      <td>So shaken as we are, so wan with care,</td>\n",
       "    </tr>\n",
       "    <tr>\n",
       "      <th>4</th>\n",
       "      <td>5</td>\n",
       "      <td>Henry IV</td>\n",
       "      <td>1.0</td>\n",
       "      <td>1.1.2</td>\n",
       "      <td>KING HENRY IV</td>\n",
       "      <td>Find we a time for frighted peace to pant,</td>\n",
       "    </tr>\n",
       "  </tbody>\n",
       "</table>\n",
       "</div>"
      ],
      "text/plain": [
       "   Dataline      Play  PlayerLinenumber ActSceneLine         Player  \\\n",
       "0         1  Henry IV               NaN          NaN            NaN   \n",
       "1         2  Henry IV               NaN          NaN            NaN   \n",
       "2         3  Henry IV               NaN          NaN            NaN   \n",
       "3         4  Henry IV               1.0        1.1.1  KING HENRY IV   \n",
       "4         5  Henry IV               1.0        1.1.2  KING HENRY IV   \n",
       "\n",
       "                                          PlayerLine  \n",
       "0                                              ACT I  \n",
       "1                       SCENE I. London. The palace.  \n",
       "2  Enter KING HENRY, LORD JOHN OF LANCASTER, the ...  \n",
       "3             So shaken as we are, so wan with care,  \n",
       "4         Find we a time for frighted peace to pant,  "
      ]
     },
     "execution_count": 241,
     "metadata": {},
     "output_type": "execute_result"
    }
   ],
   "source": [
    "plays = pd.read_csv('../data/raw/Shakespeare_data.csv')\n",
    "plays.head()"
   ]
  },
  {
   "cell_type": "markdown",
   "metadata": {},
   "source": [
    "I save the player names in a list to later visualize it as a word cloud."
   ]
  },
  {
   "cell_type": "code",
   "execution_count": 242,
   "metadata": {},
   "outputs": [],
   "source": [
    "player_list = plays['Player'].dropna().to_string().replace(\" \",\"\").split('\\n')\n",
    "\n",
    "#remove the serial number in the beginning\n",
    "for index, word in enumerate(player_name):\n",
    "    player_list[index] = \"\".join(filter(lambda x: not x.isdigit(), word))"
   ]
  },
  {
   "cell_type": "markdown",
   "metadata": {},
   "source": [
    "## Data Preparation\n",
    "\n",
    "### Cleaning\n",
    "1. Dataline\n",
    "    - **Remove this column**\n",
    "    - It seems to just be a serial number\n",
    "    - Would not serve as a useful feature for the classification model\n",
    "2. NaN\n",
    "    - **Drop the rows where the ActSceneLine is NaN**\n",
    "    - These lines just mention the entrance or exit of characters or sets the scene\n",
    "    - Cleaning will help prepare statistical summaries of frequencies of a player's lines numbers and ensure *active* dialogs are not influenced by *passive* actions.\n",
    "    - I choose ActSceneLine instead of PlayerLinenumber as the latter has a value even when it is describing a passive action, whereas the former is line specific and hence more descriptive.\n",
    "3. PlayerLineNumber\n",
    "     - Mention the current line being spoken within in act- might not be necessary\n",
    "     - May **come in handy as a feature to the classification model**"
   ]
  },
  {
   "cell_type": "code",
   "execution_count": 243,
   "metadata": {
    "scrolled": true
   },
   "outputs": [
    {
     "data": {
      "text/html": [
       "<div>\n",
       "<style scoped>\n",
       "    .dataframe tbody tr th:only-of-type {\n",
       "        vertical-align: middle;\n",
       "    }\n",
       "\n",
       "    .dataframe tbody tr th {\n",
       "        vertical-align: top;\n",
       "    }\n",
       "\n",
       "    .dataframe thead th {\n",
       "        text-align: right;\n",
       "    }\n",
       "</style>\n",
       "<table border=\"1\" class=\"dataframe\">\n",
       "  <thead>\n",
       "    <tr style=\"text-align: right;\">\n",
       "      <th></th>\n",
       "      <th>Play</th>\n",
       "      <th>PlayerLinenumber</th>\n",
       "      <th>ActSceneLine</th>\n",
       "      <th>Player</th>\n",
       "      <th>PlayerLine</th>\n",
       "    </tr>\n",
       "  </thead>\n",
       "  <tbody>\n",
       "    <tr>\n",
       "      <th>3</th>\n",
       "      <td>Henry IV</td>\n",
       "      <td>1.0</td>\n",
       "      <td>1.1.1</td>\n",
       "      <td>KING HENRY IV</td>\n",
       "      <td>So shaken as we are, so wan with care,</td>\n",
       "    </tr>\n",
       "    <tr>\n",
       "      <th>4</th>\n",
       "      <td>Henry IV</td>\n",
       "      <td>1.0</td>\n",
       "      <td>1.1.2</td>\n",
       "      <td>KING HENRY IV</td>\n",
       "      <td>Find we a time for frighted peace to pant,</td>\n",
       "    </tr>\n",
       "    <tr>\n",
       "      <th>5</th>\n",
       "      <td>Henry IV</td>\n",
       "      <td>1.0</td>\n",
       "      <td>1.1.3</td>\n",
       "      <td>KING HENRY IV</td>\n",
       "      <td>And breathe short-winded accents of new broils</td>\n",
       "    </tr>\n",
       "    <tr>\n",
       "      <th>6</th>\n",
       "      <td>Henry IV</td>\n",
       "      <td>1.0</td>\n",
       "      <td>1.1.4</td>\n",
       "      <td>KING HENRY IV</td>\n",
       "      <td>To be commenced in strands afar remote.</td>\n",
       "    </tr>\n",
       "    <tr>\n",
       "      <th>7</th>\n",
       "      <td>Henry IV</td>\n",
       "      <td>1.0</td>\n",
       "      <td>1.1.5</td>\n",
       "      <td>KING HENRY IV</td>\n",
       "      <td>No more the thirsty entrance of this soil</td>\n",
       "    </tr>\n",
       "  </tbody>\n",
       "</table>\n",
       "</div>"
      ],
      "text/plain": [
       "       Play  PlayerLinenumber ActSceneLine         Player  \\\n",
       "3  Henry IV               1.0        1.1.1  KING HENRY IV   \n",
       "4  Henry IV               1.0        1.1.2  KING HENRY IV   \n",
       "5  Henry IV               1.0        1.1.3  KING HENRY IV   \n",
       "6  Henry IV               1.0        1.1.4  KING HENRY IV   \n",
       "7  Henry IV               1.0        1.1.5  KING HENRY IV   \n",
       "\n",
       "                                       PlayerLine  \n",
       "3          So shaken as we are, so wan with care,  \n",
       "4      Find we a time for frighted peace to pant,  \n",
       "5  And breathe short-winded accents of new broils  \n",
       "6         To be commenced in strands afar remote.  \n",
       "7       No more the thirsty entrance of this soil  "
      ]
     },
     "execution_count": 243,
     "metadata": {},
     "output_type": "execute_result"
    }
   ],
   "source": [
    "plays = plays.drop(columns=['Dataline'])\n",
    "plays = plays.dropna(subset=['ActSceneLine'])\n",
    "plays.head()"
   ]
  },
  {
   "cell_type": "markdown",
   "metadata": {},
   "source": [
    "## Feature Engineering\n",
    "\n",
    "### Extraction\n",
    "The time stamp example was discussed in class, which encourages to split the date, month and year. Siimilarly, I split the act, scene and line number as their own columns and drop the one combined column."
   ]
  },
  {
   "cell_type": "code",
   "execution_count": 244,
   "metadata": {},
   "outputs": [
    {
     "data": {
      "text/html": [
       "<div>\n",
       "<style scoped>\n",
       "    .dataframe tbody tr th:only-of-type {\n",
       "        vertical-align: middle;\n",
       "    }\n",
       "\n",
       "    .dataframe tbody tr th {\n",
       "        vertical-align: top;\n",
       "    }\n",
       "\n",
       "    .dataframe thead th {\n",
       "        text-align: right;\n",
       "    }\n",
       "</style>\n",
       "<table border=\"1\" class=\"dataframe\">\n",
       "  <thead>\n",
       "    <tr style=\"text-align: right;\">\n",
       "      <th></th>\n",
       "      <th>Play</th>\n",
       "      <th>PlayerLinenumber</th>\n",
       "      <th>Player</th>\n",
       "      <th>PlayerLine</th>\n",
       "      <th>Act</th>\n",
       "      <th>Scene</th>\n",
       "      <th>Line</th>\n",
       "    </tr>\n",
       "  </thead>\n",
       "  <tbody>\n",
       "    <tr>\n",
       "      <th>3</th>\n",
       "      <td>Henry IV</td>\n",
       "      <td>1.0</td>\n",
       "      <td>KING HENRY IV</td>\n",
       "      <td>So shaken as we are, so wan with care,</td>\n",
       "      <td>1</td>\n",
       "      <td>1</td>\n",
       "      <td>1</td>\n",
       "    </tr>\n",
       "    <tr>\n",
       "      <th>4</th>\n",
       "      <td>Henry IV</td>\n",
       "      <td>1.0</td>\n",
       "      <td>KING HENRY IV</td>\n",
       "      <td>Find we a time for frighted peace to pant,</td>\n",
       "      <td>1</td>\n",
       "      <td>1</td>\n",
       "      <td>2</td>\n",
       "    </tr>\n",
       "    <tr>\n",
       "      <th>5</th>\n",
       "      <td>Henry IV</td>\n",
       "      <td>1.0</td>\n",
       "      <td>KING HENRY IV</td>\n",
       "      <td>And breathe short-winded accents of new broils</td>\n",
       "      <td>1</td>\n",
       "      <td>1</td>\n",
       "      <td>3</td>\n",
       "    </tr>\n",
       "    <tr>\n",
       "      <th>6</th>\n",
       "      <td>Henry IV</td>\n",
       "      <td>1.0</td>\n",
       "      <td>KING HENRY IV</td>\n",
       "      <td>To be commenced in strands afar remote.</td>\n",
       "      <td>1</td>\n",
       "      <td>1</td>\n",
       "      <td>4</td>\n",
       "    </tr>\n",
       "    <tr>\n",
       "      <th>7</th>\n",
       "      <td>Henry IV</td>\n",
       "      <td>1.0</td>\n",
       "      <td>KING HENRY IV</td>\n",
       "      <td>No more the thirsty entrance of this soil</td>\n",
       "      <td>1</td>\n",
       "      <td>1</td>\n",
       "      <td>5</td>\n",
       "    </tr>\n",
       "  </tbody>\n",
       "</table>\n",
       "</div>"
      ],
      "text/plain": [
       "       Play  PlayerLinenumber         Player  \\\n",
       "3  Henry IV               1.0  KING HENRY IV   \n",
       "4  Henry IV               1.0  KING HENRY IV   \n",
       "5  Henry IV               1.0  KING HENRY IV   \n",
       "6  Henry IV               1.0  KING HENRY IV   \n",
       "7  Henry IV               1.0  KING HENRY IV   \n",
       "\n",
       "                                       PlayerLine Act Scene Line  \n",
       "3          So shaken as we are, so wan with care,   1     1    1  \n",
       "4      Find we a time for frighted peace to pant,   1     1    2  \n",
       "5  And breathe short-winded accents of new broils   1     1    3  \n",
       "6         To be commenced in strands afar remote.   1     1    4  \n",
       "7       No more the thirsty entrance of this soil   1     1    5  "
      ]
     },
     "execution_count": 244,
     "metadata": {},
     "output_type": "execute_result"
    }
   ],
   "source": [
    "plays[['Act','Scene', 'Line']] = plays.ActSceneLine.str.split(\".\",expand=True)\n",
    "plays = plays.drop(columns=['ActSceneLine'])\n",
    "plays.head()"
   ]
  },
  {
   "cell_type": "markdown",
   "metadata": {},
   "source": [
    "### Tranformation\n",
    "To perform statistical analysis and to feed into the classification models, it will be a good idea to encode the strings into integer values as the models do not work with strings.\n",
    "\n",
    "First, I encode the play names."
   ]
  },
  {
   "cell_type": "code",
   "execution_count": 245,
   "metadata": {},
   "outputs": [],
   "source": [
    "play_name_encode = preprocessing.LabelEncoder()\n",
    "play_name_encode.fit(plays['Play'])\n",
    "plays['Play'] = play_name_encode.transform(plays['Play'])"
   ]
  },
  {
   "cell_type": "markdown",
   "metadata": {},
   "source": [
    "Similarly, I encode the lines and player names."
   ]
  },
  {
   "cell_type": "code",
   "execution_count": 246,
   "metadata": {},
   "outputs": [],
   "source": [
    "line_encode = preprocessing.LabelEncoder()\n",
    "line_encode.fit(plays['PlayerLine'])\n",
    "plays['PlayerLine'] = line_encode.transform(plays['PlayerLine'])"
   ]
  },
  {
   "cell_type": "markdown",
   "metadata": {},
   "source": [
    "When encoding the player names, I recieved a non-uniform type error as Players has string and floats. So, I first converted the Player column into strings and then encoded."
   ]
  },
  {
   "cell_type": "code",
   "execution_count": 247,
   "metadata": {},
   "outputs": [],
   "source": [
    "#convert to string\n",
    "plays['Player'] = plays['Player'].astype(str)\n",
    "\n",
    "#encode\n",
    "player_encode = preprocessing.LabelEncoder()\n",
    "player_encode.fit(plays['Player'])\n",
    "plays['Player'] = player_encode.transform(plays['Player'])"
   ]
  },
  {
   "cell_type": "markdown",
   "metadata": {},
   "source": [
    "After transformation, the data looks like this:"
   ]
  },
  {
   "cell_type": "code",
   "execution_count": 248,
   "metadata": {},
   "outputs": [
    {
     "data": {
      "text/html": [
       "<div>\n",
       "<style scoped>\n",
       "    .dataframe tbody tr th:only-of-type {\n",
       "        vertical-align: middle;\n",
       "    }\n",
       "\n",
       "    .dataframe tbody tr th {\n",
       "        vertical-align: top;\n",
       "    }\n",
       "\n",
       "    .dataframe thead th {\n",
       "        text-align: right;\n",
       "    }\n",
       "</style>\n",
       "<table border=\"1\" class=\"dataframe\">\n",
       "  <thead>\n",
       "    <tr style=\"text-align: right;\">\n",
       "      <th></th>\n",
       "      <th>Play</th>\n",
       "      <th>PlayerLinenumber</th>\n",
       "      <th>Player</th>\n",
       "      <th>PlayerLine</th>\n",
       "      <th>Act</th>\n",
       "      <th>Scene</th>\n",
       "      <th>Line</th>\n",
       "    </tr>\n",
       "  </thead>\n",
       "  <tbody>\n",
       "    <tr>\n",
       "      <th>3</th>\n",
       "      <td>9</td>\n",
       "      <td>1.0</td>\n",
       "      <td>457</td>\n",
       "      <td>60241</td>\n",
       "      <td>1</td>\n",
       "      <td>1</td>\n",
       "      <td>1</td>\n",
       "    </tr>\n",
       "    <tr>\n",
       "      <th>4</th>\n",
       "      <td>9</td>\n",
       "      <td>1.0</td>\n",
       "      <td>457</td>\n",
       "      <td>23569</td>\n",
       "      <td>1</td>\n",
       "      <td>1</td>\n",
       "      <td>2</td>\n",
       "    </tr>\n",
       "    <tr>\n",
       "      <th>5</th>\n",
       "      <td>9</td>\n",
       "      <td>1.0</td>\n",
       "      <td>457</td>\n",
       "      <td>4999</td>\n",
       "      <td>1</td>\n",
       "      <td>1</td>\n",
       "      <td>3</td>\n",
       "    </tr>\n",
       "    <tr>\n",
       "      <th>6</th>\n",
       "      <td>9</td>\n",
       "      <td>1.0</td>\n",
       "      <td>457</td>\n",
       "      <td>73794</td>\n",
       "      <td>1</td>\n",
       "      <td>1</td>\n",
       "      <td>4</td>\n",
       "    </tr>\n",
       "    <tr>\n",
       "      <th>7</th>\n",
       "      <td>9</td>\n",
       "      <td>1.0</td>\n",
       "      <td>457</td>\n",
       "      <td>48894</td>\n",
       "      <td>1</td>\n",
       "      <td>1</td>\n",
       "      <td>5</td>\n",
       "    </tr>\n",
       "  </tbody>\n",
       "</table>\n",
       "</div>"
      ],
      "text/plain": [
       "   Play  PlayerLinenumber  Player  PlayerLine Act Scene Line\n",
       "3     9               1.0     457       60241   1     1    1\n",
       "4     9               1.0     457       23569   1     1    2\n",
       "5     9               1.0     457        4999   1     1    3\n",
       "6     9               1.0     457       73794   1     1    4\n",
       "7     9               1.0     457       48894   1     1    5"
      ]
     },
     "execution_count": 248,
     "metadata": {},
     "output_type": "execute_result"
    }
   ],
   "source": [
    "plays.head()"
   ]
  },
  {
   "cell_type": "markdown",
   "metadata": {},
   "source": [
    "## Build Classification Models\n",
    "\n",
    "### Extraction\n",
    "First, I mention the player names as the classes that we will be predicting and all the other columns as the features."
   ]
  },
  {
   "cell_type": "code",
   "execution_count": 249,
   "metadata": {},
   "outputs": [],
   "source": [
    "classes = plays['Player']\n",
    "features = plays[['Play', 'PlayerLinenumber', 'PlayerLine','Act','Scene','Line']]"
   ]
  },
  {
   "cell_type": "markdown",
   "metadata": {},
   "source": [
    "Next, I run the data through the Naive Bayes classifier after splitting the data into test and train subsets with a 20-80 ration."
   ]
  },
  {
   "cell_type": "code",
   "execution_count": 250,
   "metadata": {},
   "outputs": [
    {
     "name": "stdout",
     "output_type": "stream",
     "text": [
      "\n",
      "Accuracy of the Naive Bayes classifier: 18.19695%\n"
     ]
    }
   ],
   "source": [
    "X_train, X_test, Y_train, Y_test = train_test_split(features, classes, test_size=0.2, random_state=1) \n",
    "\n",
    "# training the model on training set \n",
    "nb = GaussianNB() \n",
    "nb.fit(X_train, Y_train) \n",
    "  \n",
    "# making predictions on the testing set \n",
    "nb_predictions = nb.predict(X_test)\n",
    "\n",
    "# Accuracy\n",
    "print(\"\\nAccuracy of the Naive Bayes classifier: \" + \n",
    "      str((accuracy_score(Y_test, nb_predictions)*100).round(5)) + '%')"
   ]
  },
  {
   "cell_type": "markdown",
   "metadata": {},
   "source": [
    "The accuracy for Naive Bayes is pretty low, so I try the decision tree clasifier."
   ]
  },
  {
   "cell_type": "code",
   "execution_count": 251,
   "metadata": {},
   "outputs": [
    {
     "name": "stdout",
     "output_type": "stream",
     "text": [
      "\n",
      "Accuracy of the decision tree classifier: 71.62284%\n"
     ]
    }
   ],
   "source": [
    "dt = tree.DecisionTreeClassifier()\n",
    "dt.fit(X_train, Y_train) \n",
    "  \n",
    "# making predictions on the testing set \n",
    "dt_predictions = dt.predict(X_test)\n",
    "\n",
    "# Accuracy\n",
    "print(\"\\nAccuracy of the decision tree classifier: \" + \n",
    "      str((accuracy_score(Y_test, dt_predictions)*100).round(5)) + '%')"
   ]
  },
  {
   "cell_type": "markdown",
   "metadata": {},
   "source": [
    "I get a pretty good (70-90%) accuracy with the decision tree, so I try the random forest, as it is multiple decision trees put together."
   ]
  },
  {
   "cell_type": "code",
   "execution_count": null,
   "metadata": {},
   "outputs": [],
   "source": [
    "rf = RandomForestClassifier(n_estimators = 100, random_state = 0)\n",
    "rf.fit(X_train, Y_train)\n",
    "\n",
    "# making predictions on the testing set \n",
    "rf_predictions = rf.predict(X_test)\n",
    "\n",
    "# Accuracy\n",
    "print(\"\\nAccuracy of the random forest classifier: \" + \n",
    "      str((accuracy_score(Y_test, rf_predictions)*100).round(5)) + '%')"
   ]
  },
  {
   "cell_type": "markdown",
   "metadata": {},
   "source": [
    "I achieve the best accuracy using the random forest classifier."
   ]
  },
  {
   "cell_type": "markdown",
   "metadata": {},
   "source": [
    "## Visualization\n",
    "\n",
    "I created a word cloud to visualize the frequency of the lines that each player speaks."
   ]
  },
  {
   "cell_type": "code",
   "execution_count": null,
   "metadata": {},
   "outputs": [],
   "source": [
    "#convert list to string separated by spaces\n",
    "player_list_text = ' '.join(player_list)\n",
    "\n",
    "#build word cloud\n",
    "wordcloud = WordCloud(background_color ='white', collocations=False).generate(player_list_text)\n",
    "\n",
    "# resize image\n",
    "figure(num=None, figsize=(10, 8), dpi=80, facecolor='w', edgecolor='k')\n",
    "\n",
    "# Display the generated image:\n",
    "plt.imshow(wordcloud)\n",
    "plt.axis(\"off\")\n",
    "plt.show()"
   ]
  }
 ],
 "metadata": {
  "kernelspec": {
   "display_name": "Python 3",
   "language": "python",
   "name": "python3"
  }
 },
 "nbformat": 4,
 "nbformat_minor": 4
}
